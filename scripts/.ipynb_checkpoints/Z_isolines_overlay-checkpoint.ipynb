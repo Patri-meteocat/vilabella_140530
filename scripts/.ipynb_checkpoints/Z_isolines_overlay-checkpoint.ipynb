{
 "cells": [
  {
   "cell_type": "code",
   "execution_count": 138,
   "metadata": {},
   "outputs": [],
   "source": [
    "import os.path\n",
    "import glob\n",
    "import matplotlib.pyplot as plt\n",
    "import pylab as plb\n",
    "import matplotlib as mpl\n",
    "import pyart\n",
    "import numpy as np\n",
    "import scipy as sp\n",
    "import numpy.ma as ma\n",
    "import pickle\n",
    "\n",
    "from pylab import *\n",
    "from scipy import ndimage\n"
   ]
  },
  {
   "cell_type": "code",
   "execution_count": 139,
   "metadata": {
    "collapsed": true
   },
   "outputs": [],
   "source": [
    "# SETTINGS\n",
    "\n",
    "# Input and output directories\n",
    "data_path = '/home/pav/repos/vilabella_140530/results_pkl/'\n",
    "out_path = '/home/pav/repos/vilabella_140530/isoline_plots/'\n",
    "\n",
    "# plot limits\n",
    "lims_x = [-80, 20]\n",
    "lims_y = [-80, 20]\n",
    "ring_step = 20 \n",
    "\n",
    "# Contour levels (reflectivity)\n",
    "levels = np.arange(5, 55, 10)\n",
    "\n",
    "# Figure size (inches)\n",
    "fig_size = [12, 10]"
   ]
  },
  {
   "cell_type": "code",
   "execution_count": 140,
   "metadata": {
    "collapsed": true
   },
   "outputs": [],
   "source": [
    "# Custom colormap for velocity\n",
    "cmap = plt.get_cmap('jet',31)\n",
    "cmaplist = [cmap(i) for i in list(range(1,14))+list(range(19,31))]\n",
    "cmaplist[12] = (1,1,1,1)\n",
    "# create the new map\n",
    "cmap_vel = cmap.from_list('Custom cmap', cmaplist, cmap.N)\n",
    "cmap_vel.set_bad('lightgrey',1.)"
   ]
  },
  {
   "cell_type": "code",
   "execution_count": 141,
   "metadata": {},
   "outputs": [
    {
     "ename": "ValueError",
     "evalue": "operands could not be broadcast together with shapes (3240,148) (2520,148) ",
     "output_type": "error",
     "traceback": [
      "\u001b[0;31m---------------------------------------------------------------------------\u001b[0m",
      "\u001b[0;31mValueError\u001b[0m                                Traceback (most recent call last)",
      "\u001b[0;32m<ipython-input-141-14732f19ae5f>\u001b[0m in \u001b[0;36m<module>\u001b[0;34m()\u001b[0m\n\u001b[1;32m     10\u001b[0m     \u001b[0;31m# SPECKLE FILTER: Boundary management for speckle filter is not working (not applied: delta=0)\u001b[0m\u001b[0;34m\u001b[0m\u001b[0;34m\u001b[0m\u001b[0m\n\u001b[1;32m     11\u001b[0m     \u001b[0mspeckle_z\u001b[0m \u001b[0;34m=\u001b[0m \u001b[0mpyart\u001b[0m\u001b[0;34m.\u001b[0m\u001b[0mcorrect\u001b[0m\u001b[0;34m.\u001b[0m\u001b[0mdespeckle_field\u001b[0m\u001b[0;34m(\u001b[0m\u001b[0mradar\u001b[0m\u001b[0;34m,\u001b[0m \u001b[0;34m'reflectivity'\u001b[0m\u001b[0;34m,\u001b[0m \u001b[0mdelta\u001b[0m\u001b[0;34m=\u001b[0m\u001b[0;36m0\u001b[0m\u001b[0;34m)\u001b[0m\u001b[0;34m\u001b[0m\u001b[0m\n\u001b[0;32m---> 12\u001b[0;31m     \u001b[0mspeckle_z\u001b[0m\u001b[0;34m.\u001b[0m\u001b[0m_merge\u001b[0m\u001b[0;34m(\u001b[0m\u001b[0mmask_z\u001b[0m\u001b[0;34m,\u001b[0m \u001b[0;34m'or'\u001b[0m\u001b[0;34m,\u001b[0m \u001b[0;32mTrue\u001b[0m\u001b[0;34m)\u001b[0m\u001b[0;34m\u001b[0m\u001b[0m\n\u001b[0m\u001b[1;32m     13\u001b[0m     \u001b[0mradar\u001b[0m\u001b[0;34m.\u001b[0m\u001b[0mfields\u001b[0m\u001b[0;34m[\u001b[0m\u001b[0;34m'reflectivity'\u001b[0m\u001b[0;34m]\u001b[0m\u001b[0;34m[\u001b[0m\u001b[0;34m'data'\u001b[0m\u001b[0;34m]\u001b[0m\u001b[0;34m.\u001b[0m\u001b[0mmask\u001b[0m \u001b[0;34m=\u001b[0m \u001b[0mmask_z\u001b[0m\u001b[0;34m\u001b[0m\u001b[0m\n\u001b[1;32m     14\u001b[0m \u001b[0;34m\u001b[0m\u001b[0m\n",
      "\u001b[0;32m/home/pav/anaconda3/lib/python3.6/site-packages/pyart/filters/gatefilter.py\u001b[0m in \u001b[0;36m_merge\u001b[0;34m(self, marked, op, exclude_masked)\u001b[0m\n\u001b[1;32m    345\u001b[0m         \u001b[0;31m# using the specified operation.\u001b[0m\u001b[0;34m\u001b[0m\u001b[0;34m\u001b[0m\u001b[0m\n\u001b[1;32m    346\u001b[0m         \u001b[0;32mif\u001b[0m \u001b[0mop\u001b[0m \u001b[0;34m==\u001b[0m \u001b[0;34m'or'\u001b[0m\u001b[0;34m:\u001b[0m\u001b[0;34m\u001b[0m\u001b[0m\n\u001b[0;32m--> 347\u001b[0;31m             \u001b[0mself\u001b[0m\u001b[0;34m.\u001b[0m\u001b[0m_gate_excluded\u001b[0m \u001b[0;34m=\u001b[0m \u001b[0mnp\u001b[0m\u001b[0;34m.\u001b[0m\u001b[0mlogical_or\u001b[0m\u001b[0;34m(\u001b[0m\u001b[0mself\u001b[0m\u001b[0;34m.\u001b[0m\u001b[0m_gate_excluded\u001b[0m\u001b[0;34m,\u001b[0m \u001b[0mmarked\u001b[0m\u001b[0;34m)\u001b[0m\u001b[0;34m\u001b[0m\u001b[0m\n\u001b[0m\u001b[1;32m    348\u001b[0m         \u001b[0;32melif\u001b[0m \u001b[0mop\u001b[0m \u001b[0;34m==\u001b[0m \u001b[0;34m'and'\u001b[0m\u001b[0;34m:\u001b[0m\u001b[0;34m\u001b[0m\u001b[0m\n\u001b[1;32m    349\u001b[0m             \u001b[0mself\u001b[0m\u001b[0;34m.\u001b[0m\u001b[0m_gate_excluded\u001b[0m \u001b[0;34m=\u001b[0m \u001b[0mnp\u001b[0m\u001b[0;34m.\u001b[0m\u001b[0mlogical_and\u001b[0m\u001b[0;34m(\u001b[0m\u001b[0mself\u001b[0m\u001b[0;34m.\u001b[0m\u001b[0m_gate_excluded\u001b[0m\u001b[0;34m,\u001b[0m \u001b[0mmarked\u001b[0m\u001b[0;34m)\u001b[0m\u001b[0;34m\u001b[0m\u001b[0m\n",
      "\u001b[0;31mValueError\u001b[0m: operands could not be broadcast together with shapes (3240,148) (2520,148) "
     ]
    }
   ],
   "source": [
    "# Loop for all pickle files in input directory\n",
    "for f in glob.glob(data_path + '*.pkl'):\n",
    "\n",
    "    with open(f, \"rb\") as i_file:\n",
    "        radar = pickle.load(i_file)\n",
    "    \n",
    "    file_name = f[-22:-9]\n",
    "    v_ny = radar.instrument_parameters['nyquist_velocity']['data'][0]\n",
    "\n",
    "    # SPECKLE FILTER: Boundary management for speckle filter is not working (not applied: delta=0)\n",
    "    speckle_z = pyart.correct.despeckle_field(radar, 'reflectivity', delta=0)\n",
    "    mask_z = speckle_z.gate_excluded\n",
    "    speckle_z._merge(mask_z, 'or', True)\n",
    "    radar.fields['reflectivity']['data'].mask = mask_z\n",
    "\n",
    "    speckle_v = pyart.correct.despeckle_field(radar, 'velocity_corr_cmean', delta=0)\n",
    "    mask_v = speckle_v.gate_excluded\n",
    "    speckle_v._merge(mask_v, 'or', True)\n",
    "    radar.fields['velocity_corr_cmean']['data'].mask = mask_v\n",
    "\n",
    "    # Loop for all sweeps in radar object\n",
    "    for nsw, sweep_slice in enumerate(radar.iter_slice()):\n",
    "\n",
    "        # Corresponding elevation and plot title\n",
    "        el = radar.fixed_angle['data'][nsw]\n",
    "        title = file_name + ' el=' + '%2.2f' % el + 'deg'\n",
    "\n",
    "        # Out plot (png) filename\n",
    "        out_fig = out_path + 'el' + '%2.2f' % el + '_' + file_name + '_' + '.png'\n",
    "\n",
    "        # get data\n",
    "        data = radar.get_field(sweep, 'reflectivity')\n",
    "\n",
    "        # smooth out the lines\n",
    "        data = sp.ndimage.gaussian_filter(data, sigma=1.1)\n",
    "        \n",
    "        # Sweep gate coordinates (in km)\n",
    "        x, y, z = radar.get_gate_x_y_z(sweep, edges=False)\n",
    "        x /= 1000.0\n",
    "        y /= 1000.0\n",
    "        z /= 1000.0\n",
    "\n",
    "        display = pyart.graph.RadarDisplay(radar)\n",
    "        fig = plt.figure(figsize=fig_size)\n",
    "        ax = fig.add_subplot(111)\n",
    "\n",
    "        display.plot('velocity_corr_cmean', sweep=sweep, vmin=-v_ny, vmax=v_ny, fig=fig,\n",
    "                     ax=ax, cmap=cmap_vel, colorbar_label='Velocity (m/s)')\n",
    "        # adds coutours to plot\n",
    "        display.set_limits(xlim=lims_x, ylim=lims_y)\n",
    "        contours = ax.contour(x, y, data, levels, linewidths=1.5, colors='k',\n",
    "                              linestyles='solid', antialiased=True)\n",
    "        # adds contour labels (fmt= '%r' displays 10.0 vs 10.0000)\n",
    "        plt.clabel(contours, levels, fmt='%r', inline=True, fontsize=10)\n",
    "\n",
    "        \n",
    "        # Display range rings\n",
    "        display.plot_range_rings(list(range(max([lims_x[0], lims_y[0]]), \n",
    "                                            max([lims_x[1], lims_y[1]]) + ring_step, ring_step)), \n",
    "                                 lw=0.5, ls=':', ax=ax)\n",
    "        # Display cross in the radar location        \n",
    "        display.plot_cross_hair(0.5, ax=ax)\n",
    "        # Set plot limits\n",
    "        ax.set_xlim((lims_x[0], lims_x[1]))\n",
    "        ax.set_ylim((lims_y[0], lims_y[1]))\n",
    "        # Set tick positions in axes\n",
    "        ax.set_yticks(np.arange(lims_x[0]+20, lims_x[1], 20))\n",
    "        ax.set_xticks(np.arange(lims_y[0]+20, lims_y[1], 20))\n",
    "        # set axes' title\n",
    "        ax.set_xlabel('Along beam distance E-W (km)')\n",
    "        ax.set_ylabel('Along beam distance N-S (km)')\n",
    "\n",
    "        # Title size\n",
    "        ax.set_title(title, fontsize=14, fontweight='bold')\n",
    "\n",
    "        # Colorbar label and size\n",
    "        cbar = display.cbs\n",
    "        cbar[0].set_label('Dual-PRF radial velocity [m/s]', fontsize=14)\n",
    "        cbar[0].ax.tick_params(labelsize=16)\n",
    "\n",
    "        plt.tight_layout()\n",
    "\n",
    "        fig.savefig(out_fig)\n",
    "        plt.close(\"all\")\n"
   ]
  },
  {
   "cell_type": "code",
   "execution_count": null,
   "metadata": {
    "collapsed": true
   },
   "outputs": [],
   "source": []
  }
 ],
 "metadata": {
  "kernelspec": {
   "display_name": "Python 3",
   "language": "python",
   "name": "python3"
  },
  "language_info": {
   "codemirror_mode": {
    "name": "ipython",
    "version": 3
   },
   "file_extension": ".py",
   "mimetype": "text/x-python",
   "name": "python",
   "nbconvert_exporter": "python",
   "pygments_lexer": "ipython3",
   "version": "3.6.1"
  }
 },
 "nbformat": 4,
 "nbformat_minor": 2
}
