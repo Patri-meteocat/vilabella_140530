{
 "cells": [
  {
   "cell_type": "code",
   "execution_count": null,
   "metadata": {},
   "outputs": [],
   "source": [
    "import numpy as np\n",
    "import scipy as sp\n",
    "import matplotlib.pyplot as plt\n",
    "import pyart\n",
    "import pickle\n",
    "import math as m"
   ]
  },
  {
   "cell_type": "code",
   "execution_count": null,
   "metadata": {
    "collapsed": true
   },
   "outputs": [],
   "source": [
    "def min_gate_num(ranges, min_i, min_f, th):\n",
    "    \n",
    "    coef= (1/th)*np.log(min_i/min_f)\n",
    "    \n",
    "    min_gate_num = np.full((len(ranges)), min_f)\n",
    "    min_gate_num[np.where(ranges<th)] = np.floor(min_i*np.exp(-coef*ranges[np.where(ranges<th)]))\n",
    "    \n",
    "    return min_gate_num"
   ]
  },
  {
   "cell_type": "code",
   "execution_count": null,
   "metadata": {
    "collapsed": true
   },
   "outputs": [],
   "source": [
    "def range_finder(labs, n_labs, ranges):\n",
    "    \n",
    "    max_ranges = np.zeros((n_labs+1,))\n",
    "    \n",
    "    for i in np.arange(0, len(ranges)-1):\n",
    "        max_ranges[np.unique(labs[:,i])] = ranges[i]\n",
    "        \n",
    "    return max_ranges"
   ]
  },
  {
   "cell_type": "code",
   "execution_count": null,
   "metadata": {
    "collapsed": true
   },
   "outputs": [],
   "source": [
    "def speckle_filter(data_ma, range_a, kernel=None, min_i=25, min_f=10, th=110):\n",
    "        \n",
    "    if kernel is None:\n",
    "        kernel = np.zeros((3,3))\n",
    "        np.put(kernel, [1,3,4,5,7], 1)\n",
    "        \n",
    "    mask = data_ma.mask.copy()\n",
    "        \n",
    "    labs, n_labs = sp.ndimage.label((~mask))\n",
    "     \n",
    "    # Number of gates in each group\n",
    "    region_sizes = np.bincount(labs.ravel())\n",
    "       \n",
    "    max_ranges = range_finder(labs, n_labs, range_a)\n",
    "    min_num = min_gate_num(max_ranges, min_i, min_f, th)\n",
    "\n",
    "    mask = np.ones(labs.shape)\n",
    "    for bg in np.where(region_sizes>min_num)[0]:\n",
    "        mask[np.where(labs==bg)] = 0\n",
    "    \n",
    "    return mask, labs\n"
   ]
  },
  {
   "cell_type": "code",
   "execution_count": null,
   "metadata": {
    "collapsed": true
   },
   "outputs": [],
   "source": [
    "# Input and output directories\n",
    "data_path = '/home/pav/repos/vilabella_140530/RESULTS_pkl/'\n",
    "file_name = 'CDV1405301630_corr.pkl'\n",
    "in_file = data_path + file_name\n",
    "\n",
    "fig_size = [12, 10]\n",
    "sweep = 0\n",
    "\n",
    "# Load data\n",
    "with open(in_file, \"rb\") as i_file:\n",
    "    radar = pickle.load(i_file)\n",
    "    \n",
    "sw_slice = radar.get_slice(sweep)\n",
    "# get data\n",
    "data = radar.get_field(sweep, 'reflectivity')\n",
    "old_mask = data.mask"
   ]
  },
  {
   "cell_type": "code",
   "execution_count": null,
   "metadata": {},
   "outputs": [],
   "source": [
    "display = pyart.graph.RadarDisplay(radar)\n",
    "fig = plt.figure(figsize=fig_size)\n",
    "ax = fig.add_subplot(111)\n",
    "\n",
    "display.plot('reflectivity', sweep=sweep, fig=fig,ax=ax)\n",
    "plt.show()"
   ]
  },
  {
   "cell_type": "code",
   "execution_count": null,
   "metadata": {
    "collapsed": true
   },
   "outputs": [],
   "source": [
    "# Define kernel with nearest neighbours\n",
    "k = np.zeros((3,3))\n",
    "np.put(k, [1,3,4,5,7],1)"
   ]
  },
  {
   "cell_type": "code",
   "execution_count": null,
   "metadata": {
    "collapsed": true
   },
   "outputs": [],
   "source": [
    "ranges = np.round(radar.range['data']/1000) # in meters"
   ]
  },
  {
   "cell_type": "code",
   "execution_count": null,
   "metadata": {
    "collapsed": true
   },
   "outputs": [],
   "source": [
    "mask, labs = speckle_filter(data, ranges, k)"
   ]
  },
  {
   "cell_type": "code",
   "execution_count": null,
   "metadata": {
    "collapsed": true
   },
   "outputs": [],
   "source": [
    "new_mask = (old_mask) | (mask.astype(bool))"
   ]
  },
  {
   "cell_type": "code",
   "execution_count": null,
   "metadata": {},
   "outputs": [],
   "source": [
    "data.mask = new_mask"
   ]
  },
  {
   "cell_type": "code",
   "execution_count": null,
   "metadata": {},
   "outputs": [],
   "source": [
    "display = pyart.graph.RadarDisplay(radar)\n",
    "fig = plt.figure(figsize=fig_size)\n",
    "ax = fig.add_subplot(111)\n",
    "\n",
    "display.plot('reflectivity', sweep=sweep, fig=fig,ax=ax)\n",
    "plt.show()"
   ]
  },
  {
   "cell_type": "code",
   "execution_count": null,
   "metadata": {
    "collapsed": true
   },
   "outputs": [],
   "source": []
  }
 ],
 "metadata": {
  "kernelspec": {
   "display_name": "Python 3",
   "language": "python",
   "name": "python3"
  },
  "language_info": {
   "codemirror_mode": {
    "name": "ipython",
    "version": 3
   },
   "file_extension": ".py",
   "mimetype": "text/x-python",
   "name": "python",
   "nbconvert_exporter": "python",
   "pygments_lexer": "ipython3",
   "version": "3.6.1"
  }
 },
 "nbformat": 4,
 "nbformat_minor": 2
}
