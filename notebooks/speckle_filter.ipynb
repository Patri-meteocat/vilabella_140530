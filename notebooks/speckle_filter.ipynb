{
 "cells": [
  {
   "cell_type": "code",
   "execution_count": null,
   "metadata": {
    "collapsed": true
   },
   "outputs": [],
   "source": []
  },
  {
   "cell_type": "code",
   "execution_count": null,
   "metadata": {
    "collapsed": true
   },
   "outputs": [],
   "source": [
    "def speckle_filter(data_ma, kernel):\n",
    "    \n",
    "    mask = data_ma.mask.copy()\n",
    "    \n",
    "    # Label outliers by proximity\n",
    "    \"\"\"\n",
    "    Returns an array with gates indexed according to the group they belong to (labs) \n",
    "    and the number of groups found (n_labs)\n",
    "    \"\"\"\n",
    "    labs, n_labs = sp.ndimage.label((~mask))\n",
    "     \n",
    "    # Number of gates in each group\n",
    "    bincount = np.bincount(labs.ravel())\n",
    "    region_sizes = bincount[1:]\n",
    "    \n",
    "    return region_sizes"
   ]
  }
 ],
 "metadata": {
  "kernelspec": {
   "display_name": "Python 3",
   "language": "python",
   "name": "python3"
  },
  "language_info": {
   "codemirror_mode": {
    "name": "ipython",
    "version": 3
   },
   "file_extension": ".py",
   "mimetype": "text/x-python",
   "name": "python",
   "nbconvert_exporter": "python",
   "pygments_lexer": "ipython3",
   "version": "3.6.1"
  }
 },
 "nbformat": 4,
 "nbformat_minor": 2
}
