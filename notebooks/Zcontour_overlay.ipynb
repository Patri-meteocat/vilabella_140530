{
 "cells": [
  {
   "cell_type": "code",
   "execution_count": null,
   "metadata": {
    "collapsed": true
   },
   "outputs": [],
   "source": [
    "import pyart\n",
    "import numpy as np\n",
    "import scipy as sp\n",
    "import pickle\n",
    "import numpy.ma as ma\n",
    "import scipy.ndimage as ndimage\n",
    "import matplotlib.pyplot as plt\n",
    "import pylab as plb\n",
    "import matplotlib as mpl\n",
    "\n",
    "from pylab import *\n",
    "from matplotlib import gridspec"
   ]
  },
  {
   "cell_type": "code",
   "execution_count": null,
   "metadata": {
    "collapsed": true
   },
   "outputs": [],
   "source": [
    "def speckle_filter(dim, n_min):\n",
    "    "
   ]
  },
  {
   "cell_type": "code",
   "execution_count": null,
   "metadata": {
    "collapsed": true
   },
   "outputs": [],
   "source": [
    "# Set input and output directories\n",
    "in_path = '/home/pav/repos/vilabella_140530/results_pkl/'\n",
    "in_file = in_path + 'CDV1405301630_corr.pkl'"
   ]
  },
  {
   "cell_type": "code",
   "execution_count": null,
   "metadata": {
    "collapsed": true
   },
   "outputs": [],
   "source": [
    "with open(in_file, \"rb\") as f:\n",
    "    radar = pickle.load(f)\n",
    "\n",
    "z_field = radar.get_field(0, 'reflectivity')\n",
    "z_low = np.less(z_field, 0)\n",
    "z_qc_field = ma.masked_where(z_low, z_field)\n",
    "add_field_like('reflectivity', 'reflectivity_qc', z_qc_field)"
   ]
  }
 ],
 "metadata": {
  "kernelspec": {
   "display_name": "Python 3",
   "language": "python",
   "name": "python3"
  },
  "language_info": {
   "codemirror_mode": {
    "name": "ipython",
    "version": 3
   },
   "file_extension": ".py",
   "mimetype": "text/x-python",
   "name": "python",
   "nbconvert_exporter": "python",
   "pygments_lexer": "ipython3",
   "version": "3.6.1"
  }
 },
 "nbformat": 4,
 "nbformat_minor": 2
}
