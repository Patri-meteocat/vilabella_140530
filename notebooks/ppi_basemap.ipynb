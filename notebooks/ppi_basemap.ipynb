{
 "cells": [
  {
   "cell_type": "code",
   "execution_count": null,
   "metadata": {},
   "outputs": [],
   "source": [
    "import numpy as np\n",
    "import scipy as sp\n",
    "import matplotlib.pyplot as plt\n",
    "import pyart\n",
    "import pickle"
   ]
  },
  {
   "cell_type": "code",
   "execution_count": null,
   "metadata": {
    "collapsed": true
   },
   "outputs": [],
   "source": [
    "# Input and output directories\n",
    "data_path = '/home/pav/repos/vilabella_140530/RESULTS_pkl/'\n",
    "file_name = 'CDV1405301630_corr.pkl'\n",
    "in_file = data_path + file_name\n",
    "\n",
    "shp_path = '/home/pav/repos/vilabella_140530/SHP/'\n",
    "shp_file_name = 'comarques'\n",
    "shp_file = shp_path + shp_file_name\n",
    "\n",
    "# Contour levels (reflectivity)\n",
    "levels = np.arange(5, 55, 10)\n",
    "\n",
    "lat_lims = [41.1, 41.9]\n",
    "lon_lims = [0.45, 1.65]\n",
    "lat_step = 0.2\n",
    "lon_step = 0.5\n",
    "\n",
    "range_rings = list(range(20, 160, 20))\n",
    "                   \n",
    "fig_size = [12, 10]\n",
    "\n",
    "sweep = 0"
   ]
  },
  {
   "cell_type": "code",
   "execution_count": null,
   "metadata": {},
   "outputs": [],
   "source": [
    "lat_ticks = np.arange(np.floor(lat_lims[0]), np.ceil(lat_lims[1]), lat_step)\n",
    "lon_ticks = np.arange(np.floor(lon_lims[0]), np.ceil(lon_lims[1]), lon_step)"
   ]
  },
  {
   "cell_type": "code",
   "execution_count": null,
   "metadata": {
    "collapsed": true
   },
   "outputs": [],
   "source": [
    "# Custom colormap for velocity\n",
    "cmap = plt.get_cmap('jet',31)\n",
    "cmaplist = [cmap(i) for i in list(range(1,14))+list(range(19,31))]\n",
    "cmaplist[12] = (1,1,1,1)\n",
    "# create the new map\n",
    "cmap_vel = cmap.from_list('Custom cmap', cmaplist, cmap.N)\n",
    "cmap_vel.set_bad('lightgrey',1.)"
   ]
  },
  {
   "cell_type": "code",
   "execution_count": null,
   "metadata": {
    "collapsed": true
   },
   "outputs": [],
   "source": [
    "with open(in_file, \"rb\") as i_file:\n",
    "    radar = pickle.load(i_file)"
   ]
  },
  {
   "cell_type": "code",
   "execution_count": null,
   "metadata": {
    "collapsed": true
   },
   "outputs": [],
   "source": [
    "sw_slice = radar.get_slice(sweep)"
   ]
  },
  {
   "cell_type": "code",
   "execution_count": null,
   "metadata": {
    "collapsed": true
   },
   "outputs": [],
   "source": [
    "# SPECKLE FILTER: Boundary management for speckle filter is not working (not applied: delta=0)\n",
    "speckle_z = pyart.correct.despeckle_field(radar, 'reflectivity', delta=0)\n",
    "mask_z = speckle_z.gate_excluded\n",
    "speckle_z._merge(mask_z, 'or', True)\n",
    "radar.fields['reflectivity']['data'].mask = mask_z\n",
    "\n",
    "speckle_v = pyart.correct.despeckle_field(radar, 'velocity_corr_cmean', delta=0)\n",
    "mask_v = speckle_v.gate_excluded\n",
    "speckle_v._merge(mask_v, 'or', True)\n",
    "radar.fields['velocity_corr_cmean']['data'].mask = mask_v\n"
   ]
  },
  {
   "cell_type": "code",
   "execution_count": null,
   "metadata": {},
   "outputs": [],
   "source": [
    "# get data\n",
    "data = radar.get_field(sweep, 'reflectivity')\n",
    "\n",
    "# smooth out the lines\n",
    "data = sp.ndimage.gaussian_filter(data, sigma=1.1)\n",
    "\n",
    "lat = radar.gate_latitude['data'][sw_slice]\n",
    "lon = radar.gate_longitude['data'][sw_slice]"
   ]
  },
  {
   "cell_type": "code",
   "execution_count": null,
   "metadata": {},
   "outputs": [],
   "source": [
    "display = pyart.graph.RadarMapDisplay(radar)\n",
    "\n",
    "v_ny = radar.instrument_parameters['nyquist_velocity']['data'][0]\n",
    "\n",
    "fig = plt.figure(figsize=fig_size)\n",
    "ax = fig.add_subplot(111)\n",
    "\n",
    "# plot\n",
    "display.plot_ppi_map('velocity_corr_cmean', sweep, vmin=-v_ny, vmax=v_ny, projection='lcc',\n",
    "                     resolution='h', fig=fig, ax=ax, cmap=cmap_vel,\n",
    "                     min_lon=lon_lims[0], max_lon=lon_lims[1], min_lat=lat_lims[0], max_lat=lat_lims[1],\n",
    "                     lat_0=radar.latitude['data'][0],\n",
    "                     lon_0=radar.longitude['data'][0])\n",
    "# Display cross in the radar location        \n",
    "display.plot_point(radar.longitude['data'][0], radar.latitude['data'][0], symbol='+', color='k')\n",
    "\n",
    "x, y = display.basemap(lons, lats)\n",
    "contours = display.basemap.contour(x, y, data, levels, colors='k', linewidths=1.)\n",
    "\n",
    "#ax.set_xlabel('latitude')\n",
    "# adds contour labels (fmt= '%r' displays 10.0 vs 10.0000)\n",
    "plt.clabel(contours, levels, fmt='%r', inline=True, fontsize=10)\n",
    "\n",
    "# plot range rings\n",
    "display.plot_range_rings(range_rings, ax=None, col='k', ls=':', lw=0.8)\n",
    "\n",
    "# Indicate the radar location with a point\n",
    "display.basemap.readshapefile(shp_file, 'comarques', color='grey')\n",
    "\n",
    "display.basemap.drawparallels(lat_ticks, labels=[True, False, False, False], linewidth=0.01)\n",
    "display.basemap.drawmeridians(lon_ticks, labels=[False, False, False, True], linewidth=0.01)\n",
    "\n",
    "\n",
    "plt.show()"
   ]
  },
  {
   "cell_type": "code",
   "execution_count": null,
   "metadata": {
    "collapsed": true
   },
   "outputs": [],
   "source": []
  }
 ],
 "metadata": {
  "kernelspec": {
   "display_name": "Python 3",
   "language": "python",
   "name": "python3"
  },
  "language_info": {
   "codemirror_mode": {
    "name": "ipython",
    "version": 3
   },
   "file_extension": ".py",
   "mimetype": "text/x-python",
   "name": "python",
   "nbconvert_exporter": "python",
   "pygments_lexer": "ipython3",
   "version": "3.6.1"
  }
 },
 "nbformat": 4,
 "nbformat_minor": 2
}
